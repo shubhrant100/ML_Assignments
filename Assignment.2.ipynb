{
 "cells": [
  {
   "cell_type": "code",
   "execution_count": 20,
   "metadata": {},
   "outputs": [
    {
     "name": "stdout",
     "output_type": "stream",
     "text": [
      "[[0.89791093]\n",
      " [0.46001539]\n",
      " [0.31539322]\n",
      " [0.67016322]\n",
      " [0.94549207]\n",
      " [0.46411799]\n",
      " [0.86307448]\n",
      " [0.03340622]\n",
      " [0.96923644]\n",
      " [0.21801517]]\n",
      "(10, 1)\n",
      "0.5836825132005738\n"
     ]
    }
   ],
   "source": [
    "#Question 1\n",
    "\n",
    "import numpy as np\n",
    "ar=np.random.rand(10,1)\n",
    "print(ar)\n",
    "print(ar.shape)\n",
    "print('Mean:',ar.mean())\n",
    "\n",
    "\n"
   ]
  },
  {
   "cell_type": "code",
   "execution_count": 18,
   "metadata": {},
   "outputs": [
    {
     "name": "stdout",
     "output_type": "stream",
     "text": [
      "[[0.15795258]\n",
      " [0.5836987 ]\n",
      " [0.60749751]\n",
      " [0.23883226]\n",
      " [0.24181109]\n",
      " [0.40011821]\n",
      " [0.94762821]\n",
      " [0.74138748]\n",
      " [0.67471218]\n",
      " [0.01996741]\n",
      " [0.10906252]\n",
      " [0.0100931 ]\n",
      " [0.28340118]\n",
      " [0.6836305 ]\n",
      " [0.43532791]\n",
      " [0.68594559]\n",
      " [0.94689537]\n",
      " [0.64198881]\n",
      " [0.39090634]\n",
      " [0.57369517]]\n",
      "standard deviation: 0.27657570689436356\n",
      "variance: 0.0764941216441169\n"
     ]
    }
   ],
   "source": [
    "#Question 2\n",
    "\n",
    "import numpy as np\n",
    "import math\n",
    "ar=np.random.rand(20,1)\n",
    "print(ar)\n",
    "print('standard deviation:',ar.std())\n",
    "print('variance:',ar.std()**2)"
   ]
  },
  {
   "cell_type": "code",
   "execution_count": 26,
   "metadata": {},
   "outputs": [
    {
     "name": "stdout",
     "output_type": "stream",
     "text": [
      "1267.2730511520172\n"
     ]
    }
   ],
   "source": [
    "#Question 3\n",
    "\n",
    "a=np.random.rand(10,20)\n",
    "b=np.random.rand(20,25)\n",
    "c=np.matmul(a,b)\n",
    "print(np.sum(c))\n"
   ]
  },
  {
   "cell_type": "code",
   "execution_count": 41,
   "metadata": {},
   "outputs": [
    {
     "name": "stdout",
     "output_type": "stream",
     "text": [
      "[[0.50417644]\n",
      " [0.99629862]\n",
      " [0.33390865]\n",
      " [0.93691958]\n",
      " [0.65645258]\n",
      " [0.64149236]\n",
      " [0.06835348]\n",
      " [0.77125483]\n",
      " [0.46933509]\n",
      " [0.29450245]]\n",
      "********************\n",
      "[0.62344031]\n",
      "[0.73033022]\n",
      "[0.58271011]\n",
      "[0.71847701]\n",
      "[0.65846306]\n",
      "[0.65509073]\n",
      "[0.51708172]\n",
      "[0.68379228]\n",
      "[0.61522637]\n",
      "[0.57309805]\n"
     ]
    }
   ],
   "source": [
    "#Question 4\n",
    "\n",
    "a=np.random.rand(10,1)\n",
    "print(a)\n",
    "print(\"*\"*20)\n",
    "def fun(a):\n",
    "     return 1/(1+np.exp(-a))\n",
    "for i in range(10):\n",
    "    print(fun(a[i]))"
   ]
  },
  {
   "cell_type": "code",
   "execution_count": null,
   "metadata": {},
   "outputs": [],
   "source": []
  }
 ],
 "metadata": {
  "kernelspec": {
   "display_name": "Python 3",
   "language": "python",
   "name": "python3"
  },
  "language_info": {
   "codemirror_mode": {
    "name": "ipython",
    "version": 3
   },
   "file_extension": ".py",
   "mimetype": "text/x-python",
   "name": "python",
   "nbconvert_exporter": "python",
   "pygments_lexer": "ipython3",
   "version": "3.7.0"
  }
 },
 "nbformat": 4,
 "nbformat_minor": 2
}
